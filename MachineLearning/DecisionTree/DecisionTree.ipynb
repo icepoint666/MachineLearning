{
 "cells": [
  {
   "cell_type": "code",
   "execution_count": 2,
   "metadata": {
    "collapsed": true
   },
   "outputs": [],
   "source": [
    "import pandas as pd\n",
    "import numpy as np\n",
    "import matplotlib as mpl\n",
    "import matplotlib.pyplot as plt\n",
    "\n",
    "from scipy.optimize import minimize\n",
    "from sklearn.preprocessing import PolynomialFeatures\n",
    "\n",
    "pd.set_option('display.notebook_repr_html', False)\n",
    "pd.set_option('display.max_columns', None)\n",
    "pd.set_option('display.max_rows', 150)\n",
    "pd.set_option('display.max_seq_items', None)\n",
    " \n",
    "#%config InlineBackend.figure_formats = {'pdf',}\n",
    "%matplotlib inline\n",
    "\n",
    "import seaborn as sns\n",
    "sns.set_context('notebook')\n",
    "sns.set_style('white')"
   ]
  },
  {
   "cell_type": "code",
   "execution_count": 3,
   "metadata": {
    "collapsed": true
   },
   "outputs": [],
   "source": [
    "from sklearn.feature_extraction import DictVectorizer\n",
    "import csv\n",
    "import sys\n",
    "from sklearn import preprocessing\n",
    "from sklearn import tree\n",
    "from sklearn.externals.six import StringIO"
   ]
  },
  {
   "cell_type": "code",
   "execution_count": 4,
   "metadata": {
    "collapsed": true
   },
   "outputs": [],
   "source": [
    "with open(\"example.csv\",\"w\") as out:\n",
    "    writer = csv.writer(out)\n",
    "    header = ['RID','age','income','student','credit_rating','buys_computer']\n",
    "    writer.writerow(header)\n",
    "    rowdata_1=['1','youth','high','no','fair','no']\n",
    "    writer.writerow(rowdata_1)\n",
    "    rowdata_2=['2','youth','high','no','excellent','no']\n",
    "    writer.writerow(rowdata_2)\n",
    "    rowdata_3=['3','middle_aged','high','no','fair','yes']\n",
    "    writer.writerow(rowdata_3)\n",
    "    rowdata_4=['4','senior','medium','no','fair','yes']\n",
    "    writer.writerow(rowdata_4)\n",
    "    rowdata_5=['5','senior','low','yes','fair','yes']\n",
    "    writer.writerow(rowdata_5)\n",
    "    rowdata_6=['6','senior','low','yes','excellent','no']\n",
    "    writer.writerow(rowdata_6)\n",
    "    rowdata_7=['7','middle_aged','low','yes','excellent','yes']\n",
    "    writer.writerow(rowdata_7)\n",
    "    rowdata_8=['8','youth','medium','no','fair','no']\n",
    "    writer.writerow(rowdata_8)\n",
    "    rowdata_9=['9','youth','low','yes','fair','yes']\n",
    "    writer.writerow(rowdata_9)\n",
    "    rowdata_10=['10','senior','medium','yes','fair','yes']\n",
    "    writer.writerow(rowdata_10)\n",
    "    rowdata_11=['11','youth','medium','yes','excellent','yes']\n",
    "    writer.writerow(rowdata_11)\n",
    "    rowdata_12=['12','middle_aged','medium','no','excellent','yes']\n",
    "    writer.writerow(rowdata_12)\n",
    "    rowdata_13=['13','middle_aged','high','yes','fair','yes']\n",
    "    writer.writerow(rowdata_13)\n",
    "    rowdata_14=['14','senior','medium','no','excellent','no']\n",
    "    writer.writerow(rowdata_14)"
   ]
  },
  {
   "cell_type": "code",
   "execution_count": 5,
   "metadata": {
    "collapsed": true
   },
   "outputs": [],
   "source": [
    "allElectionicsData = open(r\"example.csv\",\"rb\")\n",
    "reader = csv.reader(allElectionicsData)\n",
    "headers = reader.next()"
   ]
  },
  {
   "cell_type": "code",
   "execution_count": 6,
   "metadata": {},
   "outputs": [
    {
     "data": {
      "text/plain": [
       "['RID', 'age', 'income', 'student', 'credit_rating', 'buys_computer']"
      ]
     },
     "execution_count": 6,
     "metadata": {},
     "output_type": "execute_result"
    }
   ],
   "source": [
    "headers"
   ]
  },
  {
   "cell_type": "code",
   "execution_count": 7,
   "metadata": {},
   "outputs": [
    {
     "name": "stdout",
     "output_type": "stream",
     "text": [
      "['1', 'youth', 'high', 'no', 'fair', 'no']\n",
      "['2', 'youth', 'high', 'no', 'excellent', 'no']\n",
      "['3', 'middle_aged', 'high', 'no', 'fair', 'yes']\n",
      "['4', 'senior', 'medium', 'no', 'fair', 'yes']\n",
      "['5', 'senior', 'low', 'yes', 'fair', 'yes']\n",
      "['6', 'senior', 'low', 'yes', 'excellent', 'no']\n",
      "['7', 'middle_aged', 'low', 'yes', 'excellent', 'yes']\n",
      "['8', 'youth', 'medium', 'no', 'fair', 'no']\n",
      "['9', 'youth', 'low', 'yes', 'fair', 'yes']\n",
      "['10', 'senior', 'medium', 'yes', 'fair', 'yes']\n",
      "['11', 'youth', 'medium', 'yes', 'excellent', 'yes']\n",
      "['12', 'middle_aged', 'medium', 'no', 'excellent', 'yes']\n",
      "['13', 'middle_aged', 'high', 'yes', 'fair', 'yes']\n",
      "['14', 'senior', 'medium', 'no', 'excellent', 'no']\n"
     ]
    }
   ],
   "source": [
    "featureList = []\n",
    "labelList = []\n",
    "for row in reader:\n",
    "    print row\n",
    "    labelList.append(row[len(row)-1])\n",
    "    rowDic={}\n",
    "    for i in range(1,len(row)-1):\n",
    "        rowDic[headers[i]]=row[i]\n",
    "    featureList.append(rowDic)\n",
    "    #已经没有第一行了，reader的特性读取完后接着下一个位置开始读取,所以输出没有开始的headers"
   ]
  },
  {
   "cell_type": "code",
   "execution_count": 8,
   "metadata": {},
   "outputs": [
    {
     "name": "stdout",
     "output_type": "stream",
     "text": [
      "[{'credit_rating': 'fair', 'age': 'youth', 'student': 'no', 'income': 'high'}, {'credit_rating': 'excellent', 'age': 'youth', 'student': 'no', 'income': 'high'}, {'credit_rating': 'fair', 'age': 'middle_aged', 'student': 'no', 'income': 'high'}, {'credit_rating': 'fair', 'age': 'senior', 'student': 'no', 'income': 'medium'}, {'credit_rating': 'fair', 'age': 'senior', 'student': 'yes', 'income': 'low'}, {'credit_rating': 'excellent', 'age': 'senior', 'student': 'yes', 'income': 'low'}, {'credit_rating': 'excellent', 'age': 'middle_aged', 'student': 'yes', 'income': 'low'}, {'credit_rating': 'fair', 'age': 'youth', 'student': 'no', 'income': 'medium'}, {'credit_rating': 'fair', 'age': 'youth', 'student': 'yes', 'income': 'low'}, {'credit_rating': 'fair', 'age': 'senior', 'student': 'yes', 'income': 'medium'}, {'credit_rating': 'excellent', 'age': 'youth', 'student': 'yes', 'income': 'medium'}, {'credit_rating': 'excellent', 'age': 'middle_aged', 'student': 'no', 'income': 'medium'}, {'credit_rating': 'fair', 'age': 'middle_aged', 'student': 'yes', 'income': 'high'}, {'credit_rating': 'excellent', 'age': 'senior', 'student': 'no', 'income': 'medium'}]\n",
      "['no', 'no', 'yes', 'yes', 'yes', 'no', 'yes', 'no', 'yes', 'yes', 'yes', 'yes', 'yes', 'no']\n"
     ]
    }
   ],
   "source": [
    "print featureList\n",
    "print labelList\n",
    "#从csv中提取featureList,lebelList"
   ]
  },
  {
   "cell_type": "code",
   "execution_count": 9,
   "metadata": {},
   "outputs": [
    {
     "name": "stdout",
     "output_type": "stream",
     "text": [
      "[[ 0.  0.  1.  0.  1.  1.  0.  0.  1.  0.]\n",
      " [ 0.  0.  1.  1.  0.  1.  0.  0.  1.  0.]\n",
      " [ 1.  0.  0.  0.  1.  1.  0.  0.  1.  0.]\n",
      " [ 0.  1.  0.  0.  1.  0.  0.  1.  1.  0.]\n",
      " [ 0.  1.  0.  0.  1.  0.  1.  0.  0.  1.]\n",
      " [ 0.  1.  0.  1.  0.  0.  1.  0.  0.  1.]\n",
      " [ 1.  0.  0.  1.  0.  0.  1.  0.  0.  1.]\n",
      " [ 0.  0.  1.  0.  1.  0.  0.  1.  1.  0.]\n",
      " [ 0.  0.  1.  0.  1.  0.  1.  0.  0.  1.]\n",
      " [ 0.  1.  0.  0.  1.  0.  0.  1.  0.  1.]\n",
      " [ 0.  0.  1.  1.  0.  0.  0.  1.  0.  1.]\n",
      " [ 1.  0.  0.  1.  0.  0.  0.  1.  1.  0.]\n",
      " [ 1.  0.  0.  0.  1.  1.  0.  0.  0.  1.]\n",
      " [ 0.  1.  0.  1.  0.  0.  0.  1.  1.  0.]]\n",
      "['age=middle_aged', 'age=senior', 'age=youth', 'credit_rating=excellent', 'credit_rating=fair', 'income=high', 'income=low', 'income=medium', 'student=no', 'student=yes']\n",
      "labelList:['no', 'no', 'yes', 'yes', 'yes', 'no', 'yes', 'no', 'yes', 'yes', 'yes', 'yes', 'yes', 'no']\n"
     ]
    }
   ],
   "source": [
    "vec = DictVectorizer() #vector Feature\n",
    "dummyX = vec.fit_transform(featureList).toarray() #把特征值标准化为0，1组成的向量\n",
    "print dummyX\n",
    "print vec.get_feature_names()\n",
    "print \"labelList:\"+str(labelList)"
   ]
  },
  {
   "cell_type": "code",
   "execution_count": 10,
   "metadata": {},
   "outputs": [
    {
     "name": "stdout",
     "output_type": "stream",
     "text": [
      "dummyY:[[0]\n",
      " [0]\n",
      " [1]\n",
      " [1]\n",
      " [1]\n",
      " [0]\n",
      " [1]\n",
      " [0]\n",
      " [1]\n",
      " [1]\n",
      " [1]\n",
      " [1]\n",
      " [1]\n",
      " [0]]\n"
     ]
    }
   ],
   "source": [
    "lb = preprocessing.LabelBinarizer()\n",
    "dummyY = lb.fit_transform(labelList)\n",
    "print \"dummyY:\"+str(dummyY)"
   ]
  },
  {
   "cell_type": "code",
   "execution_count": 11,
   "metadata": {},
   "outputs": [
    {
     "name": "stdout",
     "output_type": "stream",
     "text": [
      "clf:DecisionTreeClassifier(class_weight=None, criterion='entropy', max_depth=None,\n",
      "            max_features=None, max_leaf_nodes=None,\n",
      "            min_impurity_split=1e-07, min_samples_leaf=1,\n",
      "            min_samples_split=2, min_weight_fraction_leaf=0.0,\n",
      "            presort=False, random_state=None, splitter='best')\n"
     ]
    }
   ],
   "source": [
    "clf = tree.DecisionTreeClassifier(criterion=\"entropy\")\n",
    "#创建一个分类器，entropy决定了用ID3算法\n",
    "clf = clf.fit(dummyX,dummyY)\n",
    "print \"clf:\"+str(clf)"
   ]
  },
  {
   "cell_type": "code",
   "execution_count": 14,
   "metadata": {},
   "outputs": [
    {
     "name": "stdout",
     "output_type": "stream",
     "text": [
      "digraph Tree {\n",
      "node [shape=box, style=\"filled, rounded\", color=\"black\", fontname=helvetica] ;\n",
      "edge [fontname=helvetica] ;\n",
      "0 [label=\"X[0] <= 0.5\\nsamples = 14\\nvalue = [5, 9]\", fillcolor=\"#399de571\"] ;\n",
      "1 [label=\"X[8] <= 0.5\\nsamples = 10\\nvalue = [5, 5]\", fillcolor=\"#e5813900\"] ;\n",
      "0 -> 1 [labeldistance=2.5, labelangle=45, headlabel=\"True\"] ;\n",
      "2 [label=\"X[3] <= 0.5\\nsamples = 5\\nvalue = [1, 4]\", fillcolor=\"#399de5bf\"] ;\n",
      "1 -> 2 ;\n",
      "3 [label=\"samples = 3\\nvalue = [0, 3]\", fillcolor=\"#399de5ff\"] ;\n",
      "2 -> 3 ;\n",
      "4 [label=\"X[1] <= 0.5\\nsamples = 2\\nvalue = [1, 1]\", fillcolor=\"#e5813900\"] ;\n",
      "2 -> 4 ;\n",
      "5 [label=\"samples = 1\\nvalue = [0, 1]\", fillcolor=\"#399de5ff\"] ;\n",
      "4 -> 5 ;\n",
      "6 [label=\"samples = 1\\nvalue = [1, 0]\", fillcolor=\"#e58139ff\"] ;\n",
      "4 -> 6 ;\n",
      "7 [label=\"X[1] <= 0.5\\nsamples = 5\\nvalue = [4, 1]\", fillcolor=\"#e58139bf\"] ;\n",
      "1 -> 7 ;\n",
      "8 [label=\"samples = 3\\nvalue = [3, 0]\", fillcolor=\"#e58139ff\"] ;\n",
      "7 -> 8 ;\n",
      "9 [label=\"X[3] <= 0.5\\nsamples = 2\\nvalue = [1, 1]\", fillcolor=\"#e5813900\"] ;\n",
      "7 -> 9 ;\n",
      "10 [label=\"samples = 1\\nvalue = [0, 1]\", fillcolor=\"#399de5ff\"] ;\n",
      "9 -> 10 ;\n",
      "11 [label=\"samples = 1\\nvalue = [1, 0]\", fillcolor=\"#e58139ff\"] ;\n",
      "9 -> 11 ;\n",
      "12 [label=\"samples = 4\\nvalue = [0, 4]\", fillcolor=\"#399de5ff\"] ;\n",
      "0 -> 12 [labeldistance=2.5, labelangle=-45, headlabel=\"False\"] ;\n",
      "}\n",
      "Help on function graph_from_dot_data in module pydotplus.graphviz:\n",
      "\n",
      "graph_from_dot_data(data)\n",
      "    Load graph as defined by data in DOT format.\n",
      "    \n",
      "    The data is assumed to be in DOT format. It will\n",
      "    be parsed and a Dot class will be returned,\n",
      "    representing the graph.\n",
      "\n"
     ]
    },
    {
     "data": {
      "text/plain": [
       "True"
      ]
     },
     "execution_count": 14,
     "metadata": {},
     "output_type": "execute_result"
    }
   ],
   "source": [
    "#可视化\n",
    "#需要pydot，pydotplus是兼容版本\n",
    "#同时还需要Graphviz,去www.graphviz.org官网下载\n",
    "import os     \n",
    "os.environ[\"PATH\"] += os.pathsep + 'C:/Python27/Scripts/Graphviz2.38/bin/'\n",
    "import pydotplus\n",
    "dot_data = StringIO()\n",
    "tree.export_graphviz(clf,\n",
    "                    out_file=dot_data,\n",
    "                    filled=True,\n",
    "                    rounded=True,\n",
    "                    impurity=False)\n",
    "print dot_data.getvalue()\n",
    "help(pydotplus.graph_from_dot_data)\n",
    "graph = pydotplus.graph_from_dot_data(dot_data.getvalue())#pydot无法完成\n",
    "graph.write_pdf(\"viz.pdf\")\n",
    "#出现GraphViz's executables not found\n",
    "#查阅资料后发现,原来我没有安装GraphViz's executables.\n",
    "#我是用pip安装的Graphviz,但是Graphviz不是一个python tool，你仍然需要安装GraphViz's executables.\n",
    "#windows安装网址：http://www.graphviz.org/Download_windows.php，下载graphviz-2.38-zip，并把\\bin文件夹添加到环境变量"
   ]
  },
  {
   "cell_type": "code",
   "execution_count": 13,
   "metadata": {},
   "outputs": [
    {
     "data": {
      "text/plain": [
       "'\\ntree.export_graphviz()\\nParameters:\\n\\ndecision_tree : decision tree classifier\\n\\nThe decision tree to be exported to GraphViz.\\n\\n\\n\\nout_file : file object or string, optional (default=\\xe2\\x80\\x99tree.dot\\xe2\\x80\\x99)\\n\\nHandle or name of the output file. If None, the result is returned as a string. This will the default from version 0.20.\\n\\n\\n\\nmax_depth : int, optional (default=None)\\n\\nThe maximum depth of the representation. If None, the tree is fully generated.\\n\\n\\n\\nfeature_names : list of strings, optional (default=None)\\n\\nNames of each of the features.\\n\\n\\n\\nclass_names : list of strings, bool or None, optional (default=None)\\n\\nNames of each of the target classes in ascending numerical order. Only relevant for classification and not supported for multi-output. If True, shows a symbolic representation of the class name.\\n\\n\\n\\nlabel : {\\xe2\\x80\\x98all\\xe2\\x80\\x99, \\xe2\\x80\\x98root\\xe2\\x80\\x99, \\xe2\\x80\\x98none\\xe2\\x80\\x99}, optional (default=\\xe2\\x80\\x99all\\xe2\\x80\\x99)\\n\\nWhether to show informative labels for impurity, etc. Options include \\xe2\\x80\\x98all\\xe2\\x80\\x99 to show at every node, \\xe2\\x80\\x98root\\xe2\\x80\\x99 to show only at the top root node, or \\xe2\\x80\\x98none\\xe2\\x80\\x99 to not show at any node.\\n\\n\\n\\nfilled : bool, optional (default=False)\\n\\nWhen set to True, paint nodes to indicate majority class for classification, extremity of values for regression, or purity of node for multi-output.\\n\\n\\n\\nleaves_parallel : bool, optional (default=False)\\n\\nWhen set to True, draw all leaf nodes at the bottom of the tree.\\n\\n\\n\\nimpurity : bool, optional (default=True)\\n\\nWhen set to True, show the impurity at each node.\\n\\n\\n\\nnode_ids : bool, optional (default=False)\\n\\nWhen set to True, show the ID number on each node.\\n\\n\\n\\nproportion : bool, optional (default=False)\\n\\nWhen set to True, change the display of \\xe2\\x80\\x98values\\xe2\\x80\\x99 and/or \\xe2\\x80\\x98samples\\xe2\\x80\\x99 to be proportions and percentages respectively.\\n\\n\\n\\nrotate : bool, optional (default=False)\\n\\nWhen set to True, orient tree left to right rather than top-down.\\n\\n\\n\\nrounded : bool, optional (default=False)\\n\\nWhen set to True, draw node boxes with rounded corners and use Helvetica fonts instead of Times-Roman.\\n\\n\\n\\nspecial_characters : bool, optional (default=False)\\n\\nWhen set to False, ignore special characters for PostScript compatibility.\\n \\n\\nReturns:\\n\\ndot_data : string\\n\\nString representation of the input tree in GraphViz dot format. Only returned if out_file is None.\\n\\n\\nNew in version 0.18.\\n'"
      ]
     },
     "execution_count": 13,
     "metadata": {},
     "output_type": "execute_result"
    }
   ],
   "source": [
    "'''\n",
    "tree.export_graphviz()\n",
    "Parameters:\n",
    "\n",
    "decision_tree : decision tree classifier\n",
    "\n",
    "The decision tree to be exported to GraphViz.\n",
    "\n",
    "\n",
    "\n",
    "out_file : file object or string, optional (default=’tree.dot’)\n",
    "\n",
    "Handle or name of the output file. If None, the result is returned as a string. This will the default from version 0.20.\n",
    "\n",
    "\n",
    "\n",
    "max_depth : int, optional (default=None)\n",
    "\n",
    "The maximum depth of the representation. If None, the tree is fully generated.\n",
    "\n",
    "\n",
    "\n",
    "feature_names : list of strings, optional (default=None)\n",
    "\n",
    "Names of each of the features.\n",
    "\n",
    "\n",
    "\n",
    "class_names : list of strings, bool or None, optional (default=None)\n",
    "\n",
    "Names of each of the target classes in ascending numerical order. Only relevant for classification and not supported for multi-output. If True, shows a symbolic representation of the class name.\n",
    "\n",
    "\n",
    "\n",
    "label : {‘all’, ‘root’, ‘none’}, optional (default=’all’)\n",
    "\n",
    "Whether to show informative labels for impurity, etc. Options include ‘all’ to show at every node, ‘root’ to show only at the top root node, or ‘none’ to not show at any node.\n",
    "\n",
    "\n",
    "\n",
    "filled : bool, optional (default=False)\n",
    "\n",
    "When set to True, paint nodes to indicate majority class for classification, extremity of values for regression, or purity of node for multi-output.\n",
    "\n",
    "\n",
    "\n",
    "leaves_parallel : bool, optional (default=False)\n",
    "\n",
    "When set to True, draw all leaf nodes at the bottom of the tree.\n",
    "\n",
    "\n",
    "\n",
    "impurity : bool, optional (default=True)\n",
    "\n",
    "When set to True, show the impurity at each node.\n",
    "\n",
    "\n",
    "\n",
    "node_ids : bool, optional (default=False)\n",
    "\n",
    "When set to True, show the ID number on each node.\n",
    "\n",
    "\n",
    "\n",
    "proportion : bool, optional (default=False)\n",
    "\n",
    "When set to True, change the display of ‘values’ and/or ‘samples’ to be proportions and percentages respectively.\n",
    "\n",
    "\n",
    "\n",
    "rotate : bool, optional (default=False)\n",
    "\n",
    "When set to True, orient tree left to right rather than top-down.\n",
    "\n",
    "\n",
    "\n",
    "rounded : bool, optional (default=False)\n",
    "\n",
    "When set to True, draw node boxes with rounded corners and use Helvetica fonts instead of Times-Roman.\n",
    "\n",
    "\n",
    "\n",
    "special_characters : bool, optional (default=False)\n",
    "\n",
    "When set to False, ignore special characters for PostScript compatibility.\n",
    " \n",
    "\n",
    "Returns:\n",
    "\n",
    "dot_data : string\n",
    "\n",
    "String representation of the input tree in GraphViz dot format. Only returned if out_file is None.\n",
    "\n",
    "\n",
    "New in version 0.18.\n",
    "'''\n",
    "\n"
   ]
  },
  {
   "cell_type": "code",
   "execution_count": 15,
   "metadata": {},
   "outputs": [
    {
     "name": "stdout",
     "output_type": "stream",
     "text": [
      "newRowX:[ 1.  0.  0.  0.  1.  1.  0.  0.  1.  0.]\n"
     ]
    }
   ],
   "source": [
    "#预测\n",
    "oneRowX = dummyX[0,:]\n",
    "newRowX = oneRowX\n",
    "newRowX[0] = 1\n",
    "newRowX[2] = 0\n",
    "print \"newRowX:\"+str(newRowX)"
   ]
  },
  {
   "cell_type": "code",
   "execution_count": 16,
   "metadata": {},
   "outputs": [
    {
     "name": "stdout",
     "output_type": "stream",
     "text": [
      "predictY:[1]\n"
     ]
    },
    {
     "name": "stderr",
     "output_type": "stream",
     "text": [
      "c:\\python27\\lib\\site-packages\\sklearn\\utils\\validation.py:395: DeprecationWarning: Passing 1d arrays as data is deprecated in 0.17 and will raise ValueError in 0.19. Reshape your data either using X.reshape(-1, 1) if your data has a single feature or X.reshape(1, -1) if it contains a single sample.\n",
      "  DeprecationWarning)\n"
     ]
    }
   ],
   "source": [
    "predictY = clf.predict(newRowX)\n",
    "print \"predictY:\"+str(predictY)"
   ]
  },
  {
   "cell_type": "code",
   "execution_count": null,
   "metadata": {
    "collapsed": true
   },
   "outputs": [],
   "source": []
  }
 ],
 "metadata": {
  "kernelspec": {
   "display_name": "Python 2",
   "language": "python",
   "name": "python2"
  },
  "language_info": {
   "codemirror_mode": {
    "name": "ipython",
    "version": 2
   },
   "file_extension": ".py",
   "mimetype": "text/x-python",
   "name": "python",
   "nbconvert_exporter": "python",
   "pygments_lexer": "ipython2",
   "version": "2.7.13"
  }
 },
 "nbformat": 4,
 "nbformat_minor": 2
}
