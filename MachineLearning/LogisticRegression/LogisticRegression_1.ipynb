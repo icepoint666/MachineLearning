{
 "cells": [
  {
   "cell_type": "code",
   "execution_count": 8,
   "metadata": {
    "collapsed": true
   },
   "outputs": [],
   "source": [
    "import pandas as pd\n",
    "import numpy as np\n",
    "import matplotlib as mpl\n",
    "import matplotlib.pyplot as plt\n",
    "\n",
    "from scipy.optimize import minimize\n",
    "from sklearn.preprocessing import PolynomialFeatures\n",
    "\n",
    "pd.set_option('display.notebook_repr_html', False)\n",
    "pd.set_option('display.max_columns', None)\n",
    "pd.set_option('display.max_rows', 150)\n",
    "pd.set_option('display.max_seq_items', None)\n",
    " \n",
    "#%config InlineBackend.figure_formats = {'pdf',}\n",
    "%matplotlib inline\n",
    "\n",
    "import seaborn as sns\n",
    "sns.set_context('notebook')\n",
    "sns.set_style('white')"
   ]
  },
  {
   "cell_type": "code",
   "execution_count": 2,
   "metadata": {
    "collapsed": true
   },
   "outputs": [],
   "source": [
    "data = np.loadtxt('data1.txt',delimiter=',')"
   ]
  },
  {
   "cell_type": "code",
   "execution_count": 3,
   "metadata": {},
   "outputs": [
    {
     "data": {
      "text/plain": [
       "array([[ 34.62365962,  78.02469282,   0.        ],\n",
       "       [ 30.28671077,  43.89499752,   0.        ],\n",
       "       [ 35.84740877,  72.90219803,   0.        ],\n",
       "       [ 60.18259939,  86.3085521 ,   1.        ],\n",
       "       [ 79.03273605,  75.34437644,   1.        ],\n",
       "       [ 45.08327748,  56.31637178,   0.        ],\n",
       "       [ 61.10666454,  96.51142588,   1.        ],\n",
       "       [ 75.02474557,  46.55401354,   1.        ],\n",
       "       [ 76.0987867 ,  87.42056972,   1.        ],\n",
       "       [ 84.43281996,  43.53339331,   1.        ],\n",
       "       [ 95.86155507,  38.22527806,   0.        ],\n",
       "       [ 75.01365839,  30.60326323,   0.        ],\n",
       "       [ 82.30705337,  76.4819633 ,   1.        ],\n",
       "       [ 69.36458876,  97.71869196,   1.        ],\n",
       "       [ 39.53833914,  76.03681085,   0.        ],\n",
       "       [ 53.97105215,  89.20735014,   1.        ],\n",
       "       [ 69.07014406,  52.74046973,   1.        ],\n",
       "       [ 67.94685548,  46.67857411,   0.        ],\n",
       "       [ 70.66150955,  92.92713789,   1.        ],\n",
       "       [ 76.97878373,  47.57596365,   1.        ],\n",
       "       [ 67.37202755,  42.83843832,   0.        ],\n",
       "       [ 89.67677575,  65.79936593,   1.        ],\n",
       "       [ 50.53478829,  48.85581153,   0.        ],\n",
       "       [ 34.21206098,  44.2095286 ,   0.        ],\n",
       "       [ 77.92409145,  68.97235999,   1.        ],\n",
       "       [ 62.27101367,  69.95445795,   1.        ],\n",
       "       [ 80.19018075,  44.82162893,   1.        ],\n",
       "       [ 93.1143888 ,  38.80067034,   0.        ],\n",
       "       [ 61.83020602,  50.25610789,   0.        ],\n",
       "       [ 38.7858038 ,  64.99568096,   0.        ],\n",
       "       [ 61.37928945,  72.80788731,   1.        ],\n",
       "       [ 85.40451939,  57.05198398,   1.        ],\n",
       "       [ 52.10797973,  63.12762377,   0.        ],\n",
       "       [ 52.04540477,  69.43286012,   1.        ],\n",
       "       [ 40.23689374,  71.16774802,   0.        ],\n",
       "       [ 54.63510555,  52.21388588,   0.        ],\n",
       "       [ 33.91550011,  98.86943574,   0.        ],\n",
       "       [ 64.17698887,  80.90806059,   1.        ],\n",
       "       [ 74.78925296,  41.57341523,   0.        ],\n",
       "       [ 34.18364003,  75.23772034,   0.        ],\n",
       "       [ 83.90239366,  56.30804622,   1.        ],\n",
       "       [ 51.54772027,  46.85629026,   0.        ],\n",
       "       [ 94.44336777,  65.56892161,   1.        ],\n",
       "       [ 82.36875376,  40.61825516,   0.        ],\n",
       "       [ 51.04775177,  45.82270146,   0.        ],\n",
       "       [ 62.22267576,  52.06099195,   0.        ],\n",
       "       [ 77.19303493,  70.4582    ,   1.        ],\n",
       "       [ 97.77159928,  86.72782233,   1.        ],\n",
       "       [ 62.0730638 ,  96.76882412,   1.        ],\n",
       "       [ 91.5649745 ,  88.69629255,   1.        ],\n",
       "       [ 79.94481794,  74.16311935,   1.        ],\n",
       "       [ 99.27252693,  60.999031  ,   1.        ],\n",
       "       [ 90.54671411,  43.39060181,   1.        ],\n",
       "       [ 34.52451385,  60.39634246,   0.        ],\n",
       "       [ 50.28649612,  49.80453881,   0.        ],\n",
       "       [ 49.58667722,  59.80895099,   0.        ],\n",
       "       [ 97.64563396,  68.86157272,   1.        ],\n",
       "       [ 32.57720017,  95.59854761,   0.        ],\n",
       "       [ 74.24869137,  69.82457123,   1.        ],\n",
       "       [ 71.79646206,  78.45356225,   1.        ],\n",
       "       [ 75.39561147,  85.75993667,   1.        ],\n",
       "       [ 35.28611282,  47.02051395,   0.        ],\n",
       "       [ 56.2538175 ,  39.26147251,   0.        ],\n",
       "       [ 30.05882245,  49.59297387,   0.        ],\n",
       "       [ 44.66826172,  66.45008615,   0.        ],\n",
       "       [ 66.56089447,  41.09209808,   0.        ],\n",
       "       [ 40.45755098,  97.53518549,   1.        ],\n",
       "       [ 49.07256322,  51.88321182,   0.        ],\n",
       "       [ 80.27957401,  92.11606081,   1.        ],\n",
       "       [ 66.74671857,  60.99139403,   1.        ],\n",
       "       [ 32.72283304,  43.30717306,   0.        ],\n",
       "       [ 64.03932042,  78.03168802,   1.        ],\n",
       "       [ 72.34649423,  96.22759297,   1.        ],\n",
       "       [ 60.45788574,  73.0949981 ,   1.        ],\n",
       "       [ 58.84095622,  75.85844831,   1.        ],\n",
       "       [ 99.8278578 ,  72.36925193,   1.        ],\n",
       "       [ 47.26426911,  88.475865  ,   1.        ],\n",
       "       [ 50.4581598 ,  75.80985953,   1.        ],\n",
       "       [ 60.45555629,  42.50840944,   0.        ],\n",
       "       [ 82.22666158,  42.71987854,   0.        ],\n",
       "       [ 88.91389642,  69.8037889 ,   1.        ],\n",
       "       [ 94.83450672,  45.6943068 ,   1.        ],\n",
       "       [ 67.31925747,  66.58935318,   1.        ],\n",
       "       [ 57.23870632,  59.51428198,   1.        ],\n",
       "       [ 80.366756  ,  90.9601479 ,   1.        ],\n",
       "       [ 68.46852179,  85.5943071 ,   1.        ],\n",
       "       [ 42.07545454,  78.844786  ,   0.        ],\n",
       "       [ 75.47770201,  90.424539  ,   1.        ],\n",
       "       [ 78.63542435,  96.64742717,   1.        ],\n",
       "       [ 52.34800399,  60.76950526,   0.        ],\n",
       "       [ 94.09433113,  77.15910509,   1.        ],\n",
       "       [ 90.44855097,  87.50879176,   1.        ],\n",
       "       [ 55.48216114,  35.57070347,   0.        ],\n",
       "       [ 74.49269242,  84.84513685,   1.        ],\n",
       "       [ 89.84580671,  45.35828361,   1.        ],\n",
       "       [ 83.48916274,  48.3802858 ,   1.        ],\n",
       "       [ 42.26170081,  87.10385094,   1.        ],\n",
       "       [ 99.31500881,  68.77540947,   1.        ],\n",
       "       [ 55.34001756,  64.93193801,   1.        ],\n",
       "       [ 74.775893  ,  89.5298129 ,   1.        ]])"
      ]
     },
     "execution_count": 3,
     "metadata": {},
     "output_type": "execute_result"
    }
   ],
   "source": [
    "data"
   ]
  },
  {
   "cell_type": "code",
   "execution_count": 4,
   "metadata": {},
   "outputs": [
    {
     "name": "stdout",
     "output_type": "stream",
     "text": [
      "Dimensions: (100, 3)\n"
     ]
    }
   ],
   "source": [
    "print 'Dimensions:',data.shape"
   ]
  },
  {
   "cell_type": "code",
   "execution_count": 5,
   "metadata": {
    "collapsed": true
   },
   "outputs": [],
   "source": [
    "X = np.c_[np.ones((data.shape[0],1)),data[:,0:2]]\n",
    "y = np.c_[data[:,2]]"
   ]
  },
  {
   "cell_type": "code",
   "execution_count": 7,
   "metadata": {},
   "outputs": [
    {
     "data": {
      "image/png": "[encoded data removed]",
      "text/plain": [
       "<matplotlib.figure.Figure at 0x123cb7d0>"
      ]
     },
     "metadata": {},
     "output_type": "display_data"
    }
   ],
   "source": [
    "neg = data[:,2] == 0\n",
    "pos = data[:,2] == 1\n",
    "axes = plt.gca()\n",
    "axes.scatter(data[pos][:,0], data[pos][:,1], marker='+', c='k', s=60, linewidth=2, label='Pass')\n",
    "axes.scatter(data[neg][:,0], data[neg][:,1], c='y', s=60, label='Fail')\n",
    "axes.set_xlabel('Exam 1 score')\n",
    "axes.set_ylabel('Exam 2 score')\n",
    "axes.legend(frameon= True, fancybox = True);"
   ]
  },
  {
   "cell_type": "code",
   "execution_count": 30,
   "metadata": {
    "collapsed": true
   },
   "outputs": [],
   "source": [
    "def sigmoid(z):\n",
    "    return ( 1 / ( 1 + np.exp(-z)))"
   ]
  },
  {
   "cell_type": "code",
   "execution_count": 32,
   "metadata": {},
   "outputs": [
    {
     "data": {
      "text/plain": [
       "<matplotlib.legend.Legend at 0x12c74890>"
      ]
     },
     "execution_count": 32,
     "metadata": {},
     "output_type": "execute_result"
    },
    {
     "data": {
      "image/png": "[encoded data removed]",
      "text/plain": [
       "<matplotlib.figure.Figure at 0x128edb10>"
      ]
     },
     "metadata": {},
     "output_type": "display_data"
    }
   ],
   "source": [
    "#展示sigmoid函数\n",
    "index=np.arange(0,100)\n",
    "xx=index*(12.0/100.0)-6.0\n",
    "yy=sigmoid(xx)\n",
    "plt.plot(xx,yy,label='signoid')\n",
    "plt.legend(loc=4)"
   ]
  },
  {
   "cell_type": "code",
   "execution_count": 36,
   "metadata": {
    "collapsed": true
   },
   "outputs": [],
   "source": [
    "def costFunction(theta, X, y):\n",
    "    m = y.size\n",
    "    h = sigmoid(X.dot(theta))\n",
    "    J = -1.0*(1.0/m)*(np.log(h).T.dot(y)+np.log(1-h).T.dot(1-y))\n",
    "    if np.isnan(J[0]):\n",
    "        return (np.inf)\n",
    "    return J[0]"
   ]
  },
  {
   "cell_type": "code",
   "execution_count": 37,
   "metadata": {
    "collapsed": true
   },
   "outputs": [],
   "source": [
    "def gradient(theta, X, y):\n",
    "    m = y.size\n",
    "    h = sigmoid(X.dot(theta.reshape(-1,1)))\n",
    "    grad =(1.0/m)*X.T.dot(h-y)\n",
    "    return(grad.flatten())"
   ]
  },
  {
   "cell_type": "code",
   "execution_count": 40,
   "metadata": {},
   "outputs": [
    {
     "name": "stderr",
     "output_type": "stream",
     "text": [
      "c:\\python27\\lib\\site-packages\\ipykernel_launcher.py:4: RuntimeWarning: divide by zero encountered in log\n",
      "  after removing the cwd from sys.path.\n"
     ]
    },
    {
     "data": {
      "text/plain": [
       "      fun: 0.20349770158950983\n",
       " hess_inv: array([[  2.85339493e+03,  -2.32908823e+01,  -2.27416470e+01],\n",
       "       [ -2.32908823e+01,   2.04489131e-01,   1.72969525e-01],\n",
       "       [ -2.27416470e+01,   1.72969525e-01,   1.96170322e-01]])\n",
       "      jac: array([ -2.68557639e-09,   4.36433475e-07,  -1.39671758e-06])\n",
       "  message: 'Optimization terminated successfully.'\n",
       "     nfev: 34\n",
       "      nit: 25\n",
       "     njev: 30\n",
       "   status: 0\n",
       "  success: True\n",
       "        x: array([-25.16131634,   0.2062316 ,   0.20147143])"
      ]
     },
     "execution_count": 40,
     "metadata": {},
     "output_type": "execute_result"
    }
   ],
   "source": [
    "initial_theta = np.zeros(X.shape[1])\n",
    "res = minimize(costFunction, initial_theta, args=(X,y), jac=gradient, options={'maxiter':400})\n",
    "res\n",
    "#x表示theta的值由于有两个自变量，有3个theta值"
   ]
  },
  {
   "cell_type": "code",
   "execution_count": 42,
   "metadata": {},
   "outputs": [
    {
     "data": {
      "text/plain": [
       "0.77629032493310179"
      ]
     },
     "execution_count": 42,
     "metadata": {},
     "output_type": "execute_result"
    }
   ],
   "source": [
    "#预测（类别，第一次成绩，第二次成绩）的概率\n",
    "sigmoid(np.array([1, 45, 85]).dot(res.x.T))"
   ]
  },
  {
   "cell_type": "code",
   "execution_count": 79,
   "metadata": {},
   "outputs": [
    {
     "name": "stdout",
     "output_type": "stream",
     "text": [
      "2500\n",
      "[  2.77029500e-06   3.71581247e-06   4.98403883e-06 ...,   9.99999611e-01\n",
      "   9.99999710e-01   9.99999784e-01]\n",
      "2500\n",
      "[[  2.77029500e-06   3.71581247e-06   4.98403883e-06 ...,   7.31988895e-01\n",
      "    7.85562452e-01   8.30900942e-01]\n",
      " [  3.66797718e-06   4.91987719e-06   6.59905447e-06 ...,   7.83371706e-01\n",
      "    8.29072602e-01   8.66771919e-01]\n",
      " [  4.85654153e-06   6.51410219e-06   8.73739123e-06 ...,   8.27228603e-01\n",
      "    8.65268535e-01   8.95986136e-01]\n",
      " ..., \n",
      " [  5.97667264e-01   6.65833268e-01   7.27711737e-01 ...,   9.99999317e-01\n",
      "    9.99999491e-01   9.99999620e-01]\n",
      " [  6.62944161e-01   7.25136767e-01   7.79667732e-01 ...,   9.99999484e-01\n",
      "    9.99999616e-01   9.99999713e-01]\n",
      " [  7.22546730e-01   7.77433826e-01   8.24106135e-01 ...,   9.99999611e-01\n",
      "    9.99999710e-01   9.99999784e-01]]\n"
     ]
    },
    {
     "data": {
      "text/plain": [
       "<matplotlib.contour.QuadContourSet at 0x143c1c10>"
      ]
     },
     "execution_count": 79,
     "metadata": {},
     "output_type": "execute_result"
    },
    {
     "data": {
      "image/png": "[encoded data removed]",
      "text/plain": [
       "<matplotlib.figure.Figure at 0x14362150>"
      ]
     },
     "metadata": {},
     "output_type": "display_data"
    }
   ],
   "source": [
    "#绘制散点图\n",
    "neg = data[:,2] == 0\n",
    "pos = data[:,2] == 1\n",
    "axes = plt.gca()\n",
    "axes.scatter(data[pos][:,0], data[pos][:,1], marker='+', c='k', s=60, linewidth=2, label='Admitted')\n",
    "axes.scatter(data[neg][:,0], data[neg][:,1], c='y', s=60, label='Not admitted')\n",
    "axes.set_xlabel('Exam 1 score')\n",
    "axes.set_ylabel('Exam 2 score')\n",
    "axes.legend(frameon= True, fancybox = True)\n",
    "#绘制拟合直线\n",
    "x1_min, x1_max = X[:,1].min(), X[:,1].max()\n",
    "x2_min, x2_max = X[:,2].min(), X[:,2].max()\n",
    "xx1, xx2 = np.meshgrid(np.linspace(x1_min, x1_max),np.linspace(x2_min, x2_max))\n",
    "h = sigmoid(np.c_[np.ones((xx1.ravel().shape[0],1)),xx1.ravel(),xx2.ravel()].dot(res.x))\n",
    "print h.size\n",
    "print h\n",
    "h = h.reshape(xx1.shape) #按照xx1的形状\n",
    "print h.size\n",
    "print h\n",
    "plt.contour(xx1,xx2,h,[0.5], linewidths=1, colors='r')"
   ]
  },
  {
   "cell_type": "code",
   "execution_count": 87,
   "metadata": {},
   "outputs": [
    {
     "data": {
      "text/plain": [
       "<matplotlib.contour.QuadContourSet at 0x14f2a190>"
      ]
     },
     "execution_count": 87,
     "metadata": {},
     "output_type": "execute_result"
    },
    {
     "data": {
      "image/png": "[encoded data removed]",
      "text/plain": [
       "<matplotlib.figure.Figure at 0x14d7e330>"
      ]
     },
     "metadata": {},
     "output_type": "display_data"
    }
   ],
   "source": [
    "axes_1 = plt.gca()\n",
    "axes_1.scatter(data[pos][:,0], data[pos][:,1], marker='+', c='k', s=60, linewidth=2, label='Admitted')\n",
    "axes_1.scatter(data[neg][:,0], data[neg][:,1], c='y', s=60, label='Not admitted')\n",
    "axes_1.set_xlabel('Exam 1 score')\n",
    "axes_1.set_ylabel('Exam 2 score')\n",
    "axes_1.legend(frameon= True, fancybox = True)\n",
    "plt.contour(xx1,xx2,h,[0.25], linewidths=1, colors='b')\n",
    "plt.contour(xx1,xx2,h,[0.5], linewidths=1, colors='r')\n",
    "plt.contour(xx1,xx2,h,[0.99], linewidths=1, colors='g')"
   ]
  },
  {
   "cell_type": "code",
   "execution_count": 71,
   "metadata": {},
   "outputs": [
    {
     "name": "stdout",
     "output_type": "stream",
     "text": [
      "Train Accuracy: 89.000000\n"
     ]
    }
   ],
   "source": [
    "def predict(theta, X):  \n",
    "    '''''Predict label using learned logistic regression parameters'''\n",
    "    m, n = X.shape  \n",
    "    p = np.zeros(shape=(m,1))  \n",
    "    h = sigmoid(X.dot(theta.T))  \n",
    "    for it in range(0, h.shape[0]):  \n",
    "        if h[it]>0.5:  \n",
    "            p[it,0]=1  \n",
    "        else:  \n",
    "            p[it,0]=0  \n",
    "    return p  \n",
    "#Compute accuracy on our training set  \n",
    "p = predict(res.x, X)  \n",
    "print'Train Accuracy: %f'%((y[np.where(p == y)].size / float(y.size))*100.0)"
   ]
  },
  {
   "cell_type": "code",
   "execution_count": null,
   "metadata": {
    "collapsed": true
   },
   "outputs": [],
   "source": []
  }
 ],
 "metadata": {
  "kernelspec": {
   "display_name": "Python 2",
   "language": "python",
   "name": "python2"
  },
  "language_info": {
   "codemirror_mode": {
    "name": "ipython",
    "version": 2
   },
   "file_extension": ".py",
   "mimetype": "text/x-python",
   "name": "python",
   "nbconvert_exporter": "python",
   "pygments_lexer": "ipython2",
   "version": "2.7.13"
  }
 },
 "nbformat": 4,
 "nbformat_minor": 2
}
